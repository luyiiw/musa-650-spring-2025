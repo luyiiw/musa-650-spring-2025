{
 "cells": [
  {
   "cell_type": "markdown",
   "metadata": {},
   "source": [
    "# HW 3 Classification\n",
    "28 Feb 2025\n",
    "\n"
   ]
  },
  {
   "cell_type": "markdown",
   "metadata": {},
   "source": [
    "## Links to Resources\n",
    "- Natural and False Color Composites - https://gsp.humboldt.edu/olm/Courses/GSP_216/lessons/composites.html\n",
    "- About Landsat 8 - https://docs.sentinel-hub.com/api/latest/data/landsat-8/ \n",
    "- Supervised Classification Tutorial - https://www.youtube.com/watch?v=aHaatFbmZFw&ab_channel=SpatialeLearning \n",
    "- Classification Calculation - https://www.linkedin.com/pulse/ndvi-ndbi-ndwi-calculation-using-landsat-7-8-tek-bahadur-kshetri/ \n"
   ]
  },
  {
   "cell_type": "code",
   "execution_count": 1,
   "metadata": {},
   "outputs": [],
   "source": [
    "import ee\n",
    "import geemap\n",
    "import matplotlib.pyplot as plt\n",
    "import numpy as np"
   ]
  },
  {
   "cell_type": "code",
   "execution_count": 2,
   "metadata": {},
   "outputs": [
    {
     "data": {
      "text/html": [
       "\n",
       "            <style>\n",
       "                .geemap-dark {\n",
       "                    --jp-widgets-color: white;\n",
       "                    --jp-widgets-label-color: white;\n",
       "                    --jp-ui-font-color1: white;\n",
       "                    --jp-layout-color2: #454545;\n",
       "                    background-color: #383838;\n",
       "                }\n",
       "\n",
       "                .geemap-dark .jupyter-button {\n",
       "                    --jp-layout-color3: #383838;\n",
       "                }\n",
       "\n",
       "                .geemap-colab {\n",
       "                    background-color: var(--colab-primary-surface-color, white);\n",
       "                }\n",
       "\n",
       "                .geemap-colab .jupyter-button {\n",
       "                    --jp-layout-color3: var(--colab-primary-surface-color, white);\n",
       "                }\n",
       "            </style>\n",
       "            "
      ],
      "text/plain": [
       "<IPython.core.display.HTML object>"
      ]
     },
     "metadata": {},
     "output_type": "display_data"
    }
   ],
   "source": [
    "ee.Authenticate()\n",
    "ee.Initialize(project='ee-wongluyii')"
   ]
  },
  {
   "cell_type": "markdown",
   "metadata": {},
   "source": [
    "### Landsat 8 Image Selection"
   ]
  },
  {
   "cell_type": "code",
   "execution_count": 22,
   "metadata": {},
   "outputs": [
    {
     "data": {
      "text/html": [
       "\n",
       "            <style>\n",
       "                .geemap-dark {\n",
       "                    --jp-widgets-color: white;\n",
       "                    --jp-widgets-label-color: white;\n",
       "                    --jp-ui-font-color1: white;\n",
       "                    --jp-layout-color2: #454545;\n",
       "                    background-color: #383838;\n",
       "                }\n",
       "\n",
       "                .geemap-dark .jupyter-button {\n",
       "                    --jp-layout-color3: #383838;\n",
       "                }\n",
       "\n",
       "                .geemap-colab {\n",
       "                    background-color: var(--colab-primary-surface-color, white);\n",
       "                }\n",
       "\n",
       "                .geemap-colab .jupyter-button {\n",
       "                    --jp-layout-color3: var(--colab-primary-surface-color, white);\n",
       "                }\n",
       "            </style>\n",
       "            "
      ],
      "text/plain": [
       "<IPython.core.display.HTML object>"
      ]
     },
     "metadata": {},
     "output_type": "display_data"
    },
    {
     "data": {
      "application/vnd.jupyter.widget-view+json": {
       "model_id": "d5b8c5aa0f0949369668975974d5a0fb",
       "version_major": 2,
       "version_minor": 0
      },
      "text/plain": [
       "Map(center=[40.00760439369441, -75.13403899470623], controls=(WidgetControl(options=['position', 'transparent_…"
      ]
     },
     "execution_count": 22,
     "metadata": {},
     "output_type": "execute_result"
    }
   ],
   "source": [
    "# Modified Version 2\n",
    "# Pulling Phildelphia boundary (Region of Interest)\n",
    "philly = ee.FeatureCollection(\"TIGER/2018/Counties\").filter(ee.Filter.eq(\"NAME\", \"Philadelphia\"))\n",
    "\n",
    "# Apply scaling factor \n",
    "def applyScaleFactor(landsat):\n",
    "  opticalBands = landsat.select(\"SR_B.\").multiply(0.0000275).add(-0.2)\n",
    "  return landsat.addBands(opticalBands, None, True)\n",
    "\n",
    "# Load Landsat 8 Collection \n",
    "# Might have to change this so that it is pulling only one date\n",
    "landsat = (ee.ImageCollection(\"LANDSAT/LC08/C02/T1_L2\")\n",
    "           .filterDate(\"2023-01-01\", \"2023-12-31\")\n",
    "           .filterBounds(philly)\n",
    "           .map(applyScaleFactor)\n",
    "           .filterMetadata(\"CLOUD_COVER\", \"less_than\", 10)\n",
    "           .median()\n",
    "           .clip(philly))\n",
    "\n",
    "\n",
    "stats = landsat.reduceRegion(\n",
    "    reducer=ee.Reducer.minMax(),\n",
    "    geometry=philly,\n",
    "    scale=30\n",
    ")\n",
    "\n",
    "# ## MAYBE MOVE DOWN \n",
    "# ndvi = landsat.normalizedDifference([\"SR_B5\", \"SR_B4\"]).rename(\"ndvi\")\n",
    "# ndbi = landsat.normalizedDifference([\"SR_B6\", \"SR_B5\"]).rename(\"ndbi\")\n",
    "# mndwi = landsat.normalizedDifference([\"SR_B3\", \"SR_B6\"]).rename(\"mndwi\")\n",
    "\n",
    "# images = landsat.addBands(ndvi).addBands(ndbi).addBands(mndwi)\n",
    "\n",
    "visualization = {\n",
    "  \"bands\": [\"SR_B4\", \"SR_B3\", \"SR_B2\"],\n",
    "  \"min\": 0.0,\n",
    "  \"max\": 0.3\n",
    "}\n",
    "\n",
    "urban_viz = {\n",
    "  \"bands\": [\"SR_B7\", \"SR_B4\", \"SR_B6\"],\n",
    "  \"min\": 0.0,\n",
    "  \"max\": 0.3\n",
    "}\n",
    "\n",
    "veg_viz = {\n",
    "  \"bands\": [\"SR_B5\", \"SR_B4\", \"SR_B3\"],\n",
    "  \"min\": 0.0,\n",
    "  \"max\": 0.3\n",
    "}\n",
    "\n",
    "# Visualize ROI and Landsat image\n",
    "Map = geemap.Map()\n",
    "Map.centerObject(philly, 10)\n",
    "Map.addLayer(landsat, visualization, \"True Color (432)\")\n",
    "Map.addLayer(landsat, urban_viz, \"False Color (746)\")\n",
    "Map.addLayer(landsat, veg_viz, \"False Color (543)\")\n",
    "\n",
    "# min_value = stats.get(\"B4_min\")\n",
    "# max_value = stats.get(\"B4_max\")\n",
    "# max_false = stats.get(\"B7_max\")\n",
    "# max_veg = stats.get(\"B5_max\")\n",
    "# Map.addLayer(landsat, {\"bands\": [\"B4\", \"B3\", \"B2\"], \"min\": 5, \"max\": max_value}, \"True Color\")\n",
    "# Map.addLayer(landsat, {\"bands\": [\"B7\", \"B4\", \"B6\"], \"min\": 5, \"max\": max_false}, \"False Color (Urban)\")\n",
    "# Map.addLayer(landsat, {\"bands\": [\"B5\", \"B4\", \"B3\"], \"min\": 5, \"max\": max_veg}, \"False Color (Veg)\")\n",
    "Map"
   ]
  },
  {
   "cell_type": "code",
   "execution_count": null,
   "metadata": {},
   "outputs": [],
   "source": [
    "# Map.addLayer(landsat, {\"bands\": [\"B5\", \"B4\", \"B3\"], \"min\": 5, \"max\": max_veg}, \"False Color (Veg)\")\n",
    "# Define a boundary\n",
    "small_area = philly.geometry().buffer(10)\n",
    "# Export False color (Veg)\n",
    "geemap.ee_export_image(landsat,  scale=30, filename=\"landsat_philly_2023_v2.tif\", region=small_area)"
   ]
  },
  {
   "cell_type": "code",
   "execution_count": 18,
   "metadata": {},
   "outputs": [
    {
     "data": {
      "text/html": [
       "\n",
       "            <style>\n",
       "                .geemap-dark {\n",
       "                    --jp-widgets-color: white;\n",
       "                    --jp-widgets-label-color: white;\n",
       "                    --jp-ui-font-color1: white;\n",
       "                    --jp-layout-color2: #454545;\n",
       "                    background-color: #383838;\n",
       "                }\n",
       "\n",
       "                .geemap-dark .jupyter-button {\n",
       "                    --jp-layout-color3: #383838;\n",
       "                }\n",
       "\n",
       "                .geemap-colab {\n",
       "                    background-color: var(--colab-primary-surface-color, white);\n",
       "                }\n",
       "\n",
       "                .geemap-colab .jupyter-button {\n",
       "                    --jp-layout-color3: var(--colab-primary-surface-color, white);\n",
       "                }\n",
       "            </style>\n",
       "            "
      ],
      "text/plain": [
       "<IPython.core.display.HTML object>"
      ]
     },
     "metadata": {},
     "output_type": "display_data"
    },
    {
     "ename": "EEException",
     "evalue": "Date: Parameter 'value' is required and may not be null.",
     "output_type": "error",
     "traceback": [
      "\u001b[0;31m---------------------------------------------------------------------------\u001b[0m",
      "\u001b[0;31mHttpError\u001b[0m                                 Traceback (most recent call last)",
      "File \u001b[0;32m/opt/anaconda3/envs/musa-650/lib/python3.11/site-packages/ee/data.py:408\u001b[0m, in \u001b[0;36m_execute_cloud_call\u001b[0;34m(call, num_retries)\u001b[0m\n\u001b[1;32m    407\u001b[0m \u001b[38;5;28;01mtry\u001b[39;00m:\n\u001b[0;32m--> 408\u001b[0m   \u001b[38;5;28;01mreturn\u001b[39;00m call\u001b[38;5;241m.\u001b[39mexecute(num_retries\u001b[38;5;241m=\u001b[39mnum_retries)\n\u001b[1;32m    409\u001b[0m \u001b[38;5;28;01mexcept\u001b[39;00m googleapiclient\u001b[38;5;241m.\u001b[39merrors\u001b[38;5;241m.\u001b[39mHttpError \u001b[38;5;28;01mas\u001b[39;00m e:\n",
      "File \u001b[0;32m/opt/anaconda3/envs/musa-650/lib/python3.11/site-packages/googleapiclient/_helpers.py:130\u001b[0m, in \u001b[0;36mpositional.<locals>.positional_decorator.<locals>.positional_wrapper\u001b[0;34m(*args, **kwargs)\u001b[0m\n\u001b[1;32m    129\u001b[0m         logger\u001b[38;5;241m.\u001b[39mwarning(message)\n\u001b[0;32m--> 130\u001b[0m \u001b[38;5;28;01mreturn\u001b[39;00m wrapped(\u001b[38;5;241m*\u001b[39margs, \u001b[38;5;241m*\u001b[39m\u001b[38;5;241m*\u001b[39mkwargs)\n",
      "File \u001b[0;32m/opt/anaconda3/envs/musa-650/lib/python3.11/site-packages/googleapiclient/http.py:938\u001b[0m, in \u001b[0;36mHttpRequest.execute\u001b[0;34m(self, http, num_retries)\u001b[0m\n\u001b[1;32m    937\u001b[0m \u001b[38;5;28;01mif\u001b[39;00m resp\u001b[38;5;241m.\u001b[39mstatus \u001b[38;5;241m>\u001b[39m\u001b[38;5;241m=\u001b[39m \u001b[38;5;241m300\u001b[39m:\n\u001b[0;32m--> 938\u001b[0m     \u001b[38;5;28;01mraise\u001b[39;00m HttpError(resp, content, uri\u001b[38;5;241m=\u001b[39m\u001b[38;5;28mself\u001b[39m\u001b[38;5;241m.\u001b[39muri)\n\u001b[1;32m    939\u001b[0m \u001b[38;5;28;01mreturn\u001b[39;00m \u001b[38;5;28mself\u001b[39m\u001b[38;5;241m.\u001b[39mpostproc(resp, content)\n",
      "\u001b[0;31mHttpError\u001b[0m: <HttpError 400 when requesting https://earthengine.googleapis.com/v1/projects/ee-wongluyii/value:compute?prettyPrint=false&alt=json returned \"Date: Parameter 'value' is required and may not be null.\". Details: \"Date: Parameter 'value' is required and may not be null.\">",
      "\nDuring handling of the above exception, another exception occurred:\n",
      "\u001b[0;31mEEException\u001b[0m                               Traceback (most recent call last)",
      "Cell \u001b[0;32mIn[18], line 2\u001b[0m\n\u001b[1;32m      1\u001b[0m \u001b[38;5;66;03m# Check\u001b[39;00m\n\u001b[0;32m----> 2\u001b[0m \u001b[38;5;28mprint\u001b[39m(\u001b[38;5;124m\"\u001b[39m\u001b[38;5;124mThe Image Date is:\u001b[39m\u001b[38;5;124m\"\u001b[39m, ee\u001b[38;5;241m.\u001b[39mDate(landsat\u001b[38;5;241m.\u001b[39mget(\u001b[38;5;124m\"\u001b[39m\u001b[38;5;124msystem:time_start\u001b[39m\u001b[38;5;124m\"\u001b[39m))\u001b[38;5;241m.\u001b[39mformat(\u001b[38;5;124m\"\u001b[39m\u001b[38;5;124mYYYY-MM-dd\u001b[39m\u001b[38;5;124m\"\u001b[39m)\u001b[38;5;241m.\u001b[39mgetInfo())\n",
      "File \u001b[0;32m/opt/anaconda3/envs/musa-650/lib/python3.11/site-packages/ee/computedobject.py:107\u001b[0m, in \u001b[0;36mComputedObject.getInfo\u001b[0;34m(self)\u001b[0m\n\u001b[1;32m    101\u001b[0m \u001b[38;5;28;01mdef\u001b[39;00m\u001b[38;5;250m \u001b[39m\u001b[38;5;21mgetInfo\u001b[39m(\u001b[38;5;28mself\u001b[39m) \u001b[38;5;241m-\u001b[39m\u001b[38;5;241m>\u001b[39m Optional[Any]:\n\u001b[1;32m    102\u001b[0m \u001b[38;5;250m  \u001b[39m\u001b[38;5;124;03m\"\"\"Fetch and return information about this object.\u001b[39;00m\n\u001b[1;32m    103\u001b[0m \n\u001b[1;32m    104\u001b[0m \u001b[38;5;124;03m  Returns:\u001b[39;00m\n\u001b[1;32m    105\u001b[0m \u001b[38;5;124;03m    The object can evaluate to anything.\u001b[39;00m\n\u001b[1;32m    106\u001b[0m \u001b[38;5;124;03m  \"\"\"\u001b[39;00m\n\u001b[0;32m--> 107\u001b[0m   \u001b[38;5;28;01mreturn\u001b[39;00m data\u001b[38;5;241m.\u001b[39mcomputeValue(\u001b[38;5;28mself\u001b[39m)\n",
      "File \u001b[0;32m/opt/anaconda3/envs/musa-650/lib/python3.11/site-packages/ee/data.py:1128\u001b[0m, in \u001b[0;36mcomputeValue\u001b[0;34m(obj)\u001b[0m\n\u001b[1;32m   1125\u001b[0m body \u001b[38;5;241m=\u001b[39m {\u001b[38;5;124m'\u001b[39m\u001b[38;5;124mexpression\u001b[39m\u001b[38;5;124m'\u001b[39m: serializer\u001b[38;5;241m.\u001b[39mencode(obj, for_cloud_api\u001b[38;5;241m=\u001b[39m\u001b[38;5;28;01mTrue\u001b[39;00m)}\n\u001b[1;32m   1126\u001b[0m _maybe_populate_workload_tag(body)\n\u001b[0;32m-> 1128\u001b[0m \u001b[38;5;28;01mreturn\u001b[39;00m _execute_cloud_call(\n\u001b[1;32m   1129\u001b[0m     _get_cloud_projects()\n\u001b[1;32m   1130\u001b[0m     \u001b[38;5;241m.\u001b[39mvalue()\n\u001b[1;32m   1131\u001b[0m     \u001b[38;5;241m.\u001b[39mcompute(body\u001b[38;5;241m=\u001b[39mbody, project\u001b[38;5;241m=\u001b[39m_get_projects_path(), prettyPrint\u001b[38;5;241m=\u001b[39m\u001b[38;5;28;01mFalse\u001b[39;00m)\n\u001b[1;32m   1132\u001b[0m )[\u001b[38;5;124m'\u001b[39m\u001b[38;5;124mresult\u001b[39m\u001b[38;5;124m'\u001b[39m]\n",
      "File \u001b[0;32m/opt/anaconda3/envs/musa-650/lib/python3.11/site-packages/ee/data.py:410\u001b[0m, in \u001b[0;36m_execute_cloud_call\u001b[0;34m(call, num_retries)\u001b[0m\n\u001b[1;32m    408\u001b[0m   \u001b[38;5;28;01mreturn\u001b[39;00m call\u001b[38;5;241m.\u001b[39mexecute(num_retries\u001b[38;5;241m=\u001b[39mnum_retries)\n\u001b[1;32m    409\u001b[0m \u001b[38;5;28;01mexcept\u001b[39;00m googleapiclient\u001b[38;5;241m.\u001b[39merrors\u001b[38;5;241m.\u001b[39mHttpError \u001b[38;5;28;01mas\u001b[39;00m e:\n\u001b[0;32m--> 410\u001b[0m   \u001b[38;5;28;01mraise\u001b[39;00m _translate_cloud_exception(e)\n",
      "\u001b[0;31mEEException\u001b[0m: Date: Parameter 'value' is required and may not be null."
     ]
    }
   ],
   "source": [
    "# Check\n",
    "print(\"The Image Date is:\", ee.Date(landsat.get(\"system:time_start\")).format(\"YYYY-MM-dd\").getInfo())"
   ]
  },
  {
   "cell_type": "markdown",
   "metadata": {},
   "source": [
    "## Pull in Sample Data "
   ]
  },
  {
   "cell_type": "code",
   "execution_count": 4,
   "metadata": {},
   "outputs": [
    {
     "data": {
      "text/html": [
       "\n",
       "            <style>\n",
       "                .geemap-dark {\n",
       "                    --jp-widgets-color: white;\n",
       "                    --jp-widgets-label-color: white;\n",
       "                    --jp-ui-font-color1: white;\n",
       "                    --jp-layout-color2: #454545;\n",
       "                    background-color: #383838;\n",
       "                }\n",
       "\n",
       "                .geemap-dark .jupyter-button {\n",
       "                    --jp-layout-color3: #383838;\n",
       "                }\n",
       "\n",
       "                .geemap-colab {\n",
       "                    background-color: var(--colab-primary-surface-color, white);\n",
       "                }\n",
       "\n",
       "                .geemap-colab .jupyter-button {\n",
       "                    --jp-layout-color3: var(--colab-primary-surface-color, white);\n",
       "                }\n",
       "            </style>\n",
       "            "
      ],
      "text/plain": [
       "<IPython.core.display.HTML object>"
      ]
     },
     "metadata": {},
     "output_type": "display_data"
    }
   ],
   "source": [
    "# Pull in manually labeled data from QGIS\n",
    "training_samples = geemap.geojson_to_ee(\"/Users/luyiiwong/Documents/GitHub/musa-650-spring-2025/assignments/samples.geojson\")"
   ]
  },
  {
   "cell_type": "code",
   "execution_count": 5,
   "metadata": {},
   "outputs": [
    {
     "data": {
      "text/html": [
       "\n",
       "            <style>\n",
       "                .geemap-dark {\n",
       "                    --jp-widgets-color: white;\n",
       "                    --jp-widgets-label-color: white;\n",
       "                    --jp-ui-font-color1: white;\n",
       "                    --jp-layout-color2: #454545;\n",
       "                    background-color: #383838;\n",
       "                }\n",
       "\n",
       "                .geemap-dark .jupyter-button {\n",
       "                    --jp-layout-color3: #383838;\n",
       "                }\n",
       "\n",
       "                .geemap-colab {\n",
       "                    background-color: var(--colab-primary-surface-color, white);\n",
       "                }\n",
       "\n",
       "                .geemap-colab .jupyter-button {\n",
       "                    --jp-layout-color3: var(--colab-primary-surface-color, white);\n",
       "                }\n",
       "            </style>\n",
       "            "
      ],
      "text/plain": [
       "<IPython.core.display.HTML object>"
      ]
     },
     "metadata": {},
     "output_type": "display_data"
    }
   ],
   "source": [
    "# Merge training samples based on class \n",
    "urban = training_samples.filter(ee.Filter.eq(\"class\", \"urban\"))\n",
    "bare = training_samples.filter(ee.Filter.eq(\"class\", \"bare\"))\n",
    "water = training_samples.filter(ee.Filter.eq(\"class\", \"water\"))\n",
    "vegetation = training_samples.filter(ee.Filter.eq(\"class\", \"vegetation\"))\n",
    "\n",
    "# Merge all labeled samples into a single dataset\n",
    "sample = urban.merge(bare).merge(water).merge(vegetation)"
   ]
  },
  {
   "cell_type": "code",
   "execution_count": 6,
   "metadata": {},
   "outputs": [
    {
     "data": {
      "text/html": [
       "\n",
       "            <style>\n",
       "                .geemap-dark {\n",
       "                    --jp-widgets-color: white;\n",
       "                    --jp-widgets-label-color: white;\n",
       "                    --jp-ui-font-color1: white;\n",
       "                    --jp-layout-color2: #454545;\n",
       "                    background-color: #383838;\n",
       "                }\n",
       "\n",
       "                .geemap-dark .jupyter-button {\n",
       "                    --jp-layout-color3: #383838;\n",
       "                }\n",
       "\n",
       "                .geemap-colab {\n",
       "                    background-color: var(--colab-primary-surface-color, white);\n",
       "                }\n",
       "\n",
       "                .geemap-colab .jupyter-button {\n",
       "                    --jp-layout-color3: var(--colab-primary-surface-color, white);\n",
       "                }\n",
       "            </style>\n",
       "            "
      ],
      "text/plain": [
       "<IPython.core.display.HTML object>"
      ]
     },
     "metadata": {},
     "output_type": "display_data"
    }
   ],
   "source": [
    "# Update classifiers into a numeric labels - create label mapping\n",
    "label_map = ee.Dictionary({\n",
    "    \"urban\": 0,\n",
    "    \"bare\": 1,\n",
    "    \"water\": 2,\n",
    "    \"vegetation\": 3\n",
    "})\n",
    "\n",
    "# Function to assign numeric labels\n",
    "def add_numeric_label(feature):\n",
    "    return feature.set(\"landcover\", label_map.get(feature.get(\"class\")))\n",
    "\n",
    "# Apply function to training data\n",
    "sample = sample.map(add_numeric_label)\n"
   ]
  },
  {
   "cell_type": "markdown",
   "metadata": {},
   "source": [
    "## Feature Engineering\n",
    "\n",
    "The Normal Difference Vegetation Index (NDVI), Normal Difference Built-up Index (NDBI), and MNDWI (Modified Normalized Difference Water Index) can be calculated using the following:\n",
    "- NDVI = (B5 - B4)/(B5 + B4)\n",
    "- NDBI = (B6 - B5)/(B6 + B5)\n",
    "- MNDWI = (B3 - B6)/(B3 + B6)"
   ]
  },
  {
   "cell_type": "markdown",
   "metadata": {},
   "source": [
    "### T1 Version"
   ]
  },
  {
   "cell_type": "code",
   "execution_count": 7,
   "metadata": {},
   "outputs": [
    {
     "data": {
      "text/html": [
       "\n",
       "            <style>\n",
       "                .geemap-dark {\n",
       "                    --jp-widgets-color: white;\n",
       "                    --jp-widgets-label-color: white;\n",
       "                    --jp-ui-font-color1: white;\n",
       "                    --jp-layout-color2: #454545;\n",
       "                    background-color: #383838;\n",
       "                }\n",
       "\n",
       "                .geemap-dark .jupyter-button {\n",
       "                    --jp-layout-color3: #383838;\n",
       "                }\n",
       "\n",
       "                .geemap-colab {\n",
       "                    background-color: var(--colab-primary-surface-color, white);\n",
       "                }\n",
       "\n",
       "                .geemap-colab .jupyter-button {\n",
       "                    --jp-layout-color3: var(--colab-primary-surface-color, white);\n",
       "                }\n",
       "            </style>\n",
       "            "
      ],
      "text/plain": [
       "<IPython.core.display.HTML object>"
      ]
     },
     "metadata": {},
     "output_type": "display_data"
    }
   ],
   "source": [
    "# Use normalizedDifference to compute (first − second) / (first + second)\n",
    "# Calculate NDVI\n",
    "ndvi = landsat.normalizedDifference([\"B5\", \"B4\"]).rename(\"NDVI\")\n",
    "\n",
    "# Calculate NDBI\n",
    "ndbi = landsat.normalizedDifference([\"B6\", \"B5\"]).rename(\"NDBI\")\n",
    "\n",
    "# Calculate MNDWI\n",
    "mndwi = landsat.normalizedDifference([\"B3\", \"B6\"]).rename(\"MNDWI\")"
   ]
  },
  {
   "cell_type": "code",
   "execution_count": 17,
   "metadata": {},
   "outputs": [
    {
     "data": {
      "text/html": [
       "\n",
       "            <style>\n",
       "                .geemap-dark {\n",
       "                    --jp-widgets-color: white;\n",
       "                    --jp-widgets-label-color: white;\n",
       "                    --jp-ui-font-color1: white;\n",
       "                    --jp-layout-color2: #454545;\n",
       "                    background-color: #383838;\n",
       "                }\n",
       "\n",
       "                .geemap-dark .jupyter-button {\n",
       "                    --jp-layout-color3: #383838;\n",
       "                }\n",
       "\n",
       "                .geemap-colab {\n",
       "                    background-color: var(--colab-primary-surface-color, white);\n",
       "                }\n",
       "\n",
       "                .geemap-colab .jupyter-button {\n",
       "                    --jp-layout-color3: var(--colab-primary-surface-color, white);\n",
       "                }\n",
       "            </style>\n",
       "            "
      ],
      "text/plain": [
       "<IPython.core.display.HTML object>"
      ]
     },
     "metadata": {},
     "output_type": "display_data"
    }
   ],
   "source": [
    "# Load and normalize elevation data\n",
    "dem = ee.Image(\"USGS/SRTMGL1_003\").clip(philly)\n",
    "slope = ee.Terrain.slope(dem)\n",
    "\n",
    "# Normalize bands to 0-1 scale\n",
    "def normalize(image, band):\n",
    "    min_max = image.reduceRegion(ee.Reducer.minMax(), philly, 30)\n",
    "    min_val = ee.Number(min_max.get(f\"{band}_min\"))\n",
    "    max_val = ee.Number(min_max.get(f\"{band}_max\"))\n",
    "    return image.select(band).subtract(min_val).divide(max_val.subtract(min_val)).rename(f\"{band}_norm\")\n",
    "\n",
    "bands_to_normalize = [\"B1\", \"B2\", \"B3\", \"B4\", \"B5\", \"B6\", \"B7\"]\n",
    "normalized_bands = [normalize(landsat, band) for band in bands_to_normalize]\n",
    "\n",
    "# Combine all features\n",
    "final_image = landsat.addBands([ndvi, ndbi, mndwi, slope] + normalized_bands)"
   ]
  },
  {
   "cell_type": "markdown",
   "metadata": {},
   "source": [
    "### T1_L2 Version"
   ]
  },
  {
   "cell_type": "code",
   "execution_count": 8,
   "metadata": {},
   "outputs": [
    {
     "data": {
      "text/html": [
       "\n",
       "            <style>\n",
       "                .geemap-dark {\n",
       "                    --jp-widgets-color: white;\n",
       "                    --jp-widgets-label-color: white;\n",
       "                    --jp-ui-font-color1: white;\n",
       "                    --jp-layout-color2: #454545;\n",
       "                    background-color: #383838;\n",
       "                }\n",
       "\n",
       "                .geemap-dark .jupyter-button {\n",
       "                    --jp-layout-color3: #383838;\n",
       "                }\n",
       "\n",
       "                .geemap-colab {\n",
       "                    background-color: var(--colab-primary-surface-color, white);\n",
       "                }\n",
       "\n",
       "                .geemap-colab .jupyter-button {\n",
       "                    --jp-layout-color3: var(--colab-primary-surface-color, white);\n",
       "                }\n",
       "            </style>\n",
       "            "
      ],
      "text/plain": [
       "<IPython.core.display.HTML object>"
      ]
     },
     "metadata": {},
     "output_type": "display_data"
    }
   ],
   "source": [
    "## IF USING T1_L2\n",
    "# Use normalizedDifference to compute (first − second) / (first + second)\n",
    "ndvi = landsat.normalizedDifference([\"SR_B5\", \"SR_B4\"]).rename(\"ndvi\")\n",
    "ndbi = landsat.normalizedDifference([\"SR_B6\", \"SR_B5\"]).rename(\"ndbi\")\n",
    "mndwi = landsat.normalizedDifference([\"SR_B3\", \"SR_B6\"]).rename(\"mndwi\")"
   ]
  },
  {
   "cell_type": "code",
   "execution_count": 23,
   "metadata": {},
   "outputs": [
    {
     "data": {
      "text/html": [
       "\n",
       "            <style>\n",
       "                .geemap-dark {\n",
       "                    --jp-widgets-color: white;\n",
       "                    --jp-widgets-label-color: white;\n",
       "                    --jp-ui-font-color1: white;\n",
       "                    --jp-layout-color2: #454545;\n",
       "                    background-color: #383838;\n",
       "                }\n",
       "\n",
       "                .geemap-dark .jupyter-button {\n",
       "                    --jp-layout-color3: #383838;\n",
       "                }\n",
       "\n",
       "                .geemap-colab {\n",
       "                    background-color: var(--colab-primary-surface-color, white);\n",
       "                }\n",
       "\n",
       "                .geemap-colab .jupyter-button {\n",
       "                    --jp-layout-color3: var(--colab-primary-surface-color, white);\n",
       "                }\n",
       "            </style>\n",
       "            "
      ],
      "text/plain": [
       "<IPython.core.display.HTML object>"
      ]
     },
     "metadata": {},
     "output_type": "display_data"
    }
   ],
   "source": [
    "## IF USING T1_L2\n",
    "# Load and normalize elevation data\n",
    "# Load 30m DEM dataset\n",
    "dem = ee.Image(\"USGS/SRTMGL1_003\").clip(philly)\n",
    "slope = ee.Terrain.slope(dem)\n",
    "\n",
    "# Normalize bands to 0-1 scale\n",
    "def normalize(image, band):\n",
    "    min_max = image.reduceRegion(ee.Reducer.minMax(), philly, 30)\n",
    "    min_val = ee.Number(min_max.get(f\"{band}_min\"))\n",
    "    max_val = ee.Number(min_max.get(f\"{band}_max\"))\n",
    "    return image.select(band).subtract(min_val).divide(max_val.subtract(min_val)).rename(f\"{band}_norm\")\n",
    "\n",
    "bands_to_normalize = [\"B1\", \"B2\", \"B3\", \"B4\", \"B5\", \"B6\", \"B7\"]\n",
    "normalized_bands = [normalize(landsat, band) for band in bands_to_normalize]\n",
    "\n",
    "# Combine all features\n",
    "final_image = landsat.addBands([ndvi, ndbi, mndwi, slope] + normalized_bands)"
   ]
  },
  {
   "cell_type": "code",
   "execution_count": 24,
   "metadata": {},
   "outputs": [
    {
     "data": {
      "text/html": [
       "\n",
       "            <style>\n",
       "                .geemap-dark {\n",
       "                    --jp-widgets-color: white;\n",
       "                    --jp-widgets-label-color: white;\n",
       "                    --jp-ui-font-color1: white;\n",
       "                    --jp-layout-color2: #454545;\n",
       "                    background-color: #383838;\n",
       "                }\n",
       "\n",
       "                .geemap-dark .jupyter-button {\n",
       "                    --jp-layout-color3: #383838;\n",
       "                }\n",
       "\n",
       "                .geemap-colab {\n",
       "                    background-color: var(--colab-primary-surface-color, white);\n",
       "                }\n",
       "\n",
       "                .geemap-colab .jupyter-button {\n",
       "                    --jp-layout-color3: var(--colab-primary-surface-color, white);\n",
       "                }\n",
       "            </style>\n",
       "            "
      ],
      "text/plain": [
       "<IPython.core.display.HTML object>"
      ]
     },
     "metadata": {},
     "output_type": "display_data"
    }
   ],
   "source": [
    "# Load and visualize SRTM DEM\n",
    "dem = ee.Image(\"USGS/SRTMGL1_003\").clip(philly)\n",
    "dem_vis = {\"min\": 0, \"max\": 500, \"palette\": [\"black\", \"A9A9A9\", \"D3D3D3\", \"white\"]}\n",
    "\n",
    "Map.addLayer(dem, dem_vis, \"Elevation (SRTM DEM)\")"
   ]
  },
  {
   "cell_type": "code",
   "execution_count": 15,
   "metadata": {},
   "outputs": [
    {
     "data": {
      "text/html": [
       "\n",
       "            <style>\n",
       "                .geemap-dark {\n",
       "                    --jp-widgets-color: white;\n",
       "                    --jp-widgets-label-color: white;\n",
       "                    --jp-ui-font-color1: white;\n",
       "                    --jp-layout-color2: #454545;\n",
       "                    background-color: #383838;\n",
       "                }\n",
       "\n",
       "                .geemap-dark .jupyter-button {\n",
       "                    --jp-layout-color3: #383838;\n",
       "                }\n",
       "\n",
       "                .geemap-colab {\n",
       "                    background-color: var(--colab-primary-surface-color, white);\n",
       "                }\n",
       "\n",
       "                .geemap-colab .jupyter-button {\n",
       "                    --jp-layout-color3: var(--colab-primary-surface-color, white);\n",
       "                }\n",
       "            </style>\n",
       "            "
      ],
      "text/plain": [
       "<IPython.core.display.HTML object>"
      ]
     },
     "metadata": {},
     "output_type": "display_data"
    },
    {
     "ename": "TypeError",
     "evalue": "Image.sampleRegions() got an unexpected keyword argument 'maxPixels'",
     "output_type": "error",
     "traceback": [
      "\u001b[0;31m---------------------------------------------------------------------------\u001b[0m",
      "\u001b[0;31mTypeError\u001b[0m                                 Traceback (most recent call last)",
      "Cell \u001b[0;32mIn[15], line 3\u001b[0m\n\u001b[1;32m      1\u001b[0m \u001b[38;5;66;03m# Combine NDVI, NDBI, MNDWI, and Slope to samples \u001b[39;00m\n\u001b[1;32m      2\u001b[0m \u001b[38;5;66;03m# Sample pixel values from final_image at training sample locations\u001b[39;00m\n\u001b[0;32m----> 3\u001b[0m sample \u001b[38;5;241m=\u001b[39m final_image\u001b[38;5;241m.\u001b[39msampleRegions(\n\u001b[1;32m      4\u001b[0m     collection\u001b[38;5;241m=\u001b[39msample,  \n\u001b[1;32m      5\u001b[0m     properties\u001b[38;5;241m=\u001b[39m[\u001b[38;5;124m\"\u001b[39m\u001b[38;5;124mlandcover\u001b[39m\u001b[38;5;124m\"\u001b[39m],  \n\u001b[1;32m      6\u001b[0m     scale\u001b[38;5;241m=\u001b[39m\u001b[38;5;241m30\u001b[39m,  \n\u001b[1;32m      7\u001b[0m     geometries\u001b[38;5;241m=\u001b[39m\u001b[38;5;28;01mTrue\u001b[39;00m,  \n\u001b[1;32m      8\u001b[0m     maxPixels\u001b[38;5;241m=\u001b[39m\u001b[38;5;241m2e9\u001b[39m \n\u001b[1;32m      9\u001b[0m )\n\u001b[1;32m     11\u001b[0m \u001b[38;5;66;03m## UNABLE TO RUN: Too many pixels in the region\u001b[39;00m\n\u001b[1;32m     12\u001b[0m \n\u001b[1;32m     13\u001b[0m \u001b[38;5;66;03m# Check that features were added\u001b[39;00m\n\u001b[1;32m     14\u001b[0m \u001b[38;5;28mprint\u001b[39m(sample\u001b[38;5;241m.\u001b[39mfirst()\u001b[38;5;241m.\u001b[39mgetInfo())\n",
      "\u001b[0;31mTypeError\u001b[0m: Image.sampleRegions() got an unexpected keyword argument 'maxPixels'"
     ]
    }
   ],
   "source": [
    "# Combine NDVI, NDBI, MNDWI, and Slope to samples \n",
    "# Sample pixel values from final_image at training sample locations\n",
    "sample = final_image.sampleRegions(\n",
    "    collection=sample,  \n",
    "    properties=[\"landcover\"],  \n",
    "    scale=30,  \n",
    "    geometries=True,  \n",
    "    maxPixels=2e9 \n",
    ")\n",
    "\n",
    "## UNABLE TO RUN: Too many pixels in the region\n",
    "\n",
    "# Check that features were added\n",
    "print(sample.first().getInfo())"
   ]
  },
  {
   "cell_type": "markdown",
   "metadata": {},
   "source": [
    "## Model Training and Evaluation"
   ]
  },
  {
   "cell_type": "markdown",
   "metadata": {},
   "source": [
    "### Training"
   ]
  },
  {
   "cell_type": "code",
   "execution_count": 27,
   "metadata": {},
   "outputs": [
    {
     "data": {
      "text/html": [
       "\n",
       "            <style>\n",
       "                .geemap-dark {\n",
       "                    --jp-widgets-color: white;\n",
       "                    --jp-widgets-label-color: white;\n",
       "                    --jp-ui-font-color1: white;\n",
       "                    --jp-layout-color2: #454545;\n",
       "                    background-color: #383838;\n",
       "                }\n",
       "\n",
       "                .geemap-dark .jupyter-button {\n",
       "                    --jp-layout-color3: #383838;\n",
       "                }\n",
       "\n",
       "                .geemap-colab {\n",
       "                    background-color: var(--colab-primary-surface-color, white);\n",
       "                }\n",
       "\n",
       "                .geemap-colab .jupyter-button {\n",
       "                    --jp-layout-color3: var(--colab-primary-surface-color, white);\n",
       "                }\n",
       "            </style>\n",
       "            "
      ],
      "text/plain": [
       "<IPython.core.display.HTML object>"
      ]
     },
     "metadata": {},
     "output_type": "display_data"
    }
   ],
   "source": [
    "# Split Training and Test Sets\n",
    "# Split: 70/30\n",
    "sample = sample.randomColumn(\"split\")\n",
    "train_data = sample.filter(ee.Filter.lt(\"split\", 0.7))\n",
    "test_data = sample.filter(ee.Filter.gte(\"split\", 0.7))"
   ]
  },
  {
   "cell_type": "code",
   "execution_count": 29,
   "metadata": {},
   "outputs": [
    {
     "data": {
      "text/html": [
       "\n",
       "            <style>\n",
       "                .geemap-dark {\n",
       "                    --jp-widgets-color: white;\n",
       "                    --jp-widgets-label-color: white;\n",
       "                    --jp-ui-font-color1: white;\n",
       "                    --jp-layout-color2: #454545;\n",
       "                    background-color: #383838;\n",
       "                }\n",
       "\n",
       "                .geemap-dark .jupyter-button {\n",
       "                    --jp-layout-color3: #383838;\n",
       "                }\n",
       "\n",
       "                .geemap-colab {\n",
       "                    background-color: var(--colab-primary-surface-color, white);\n",
       "                }\n",
       "\n",
       "                .geemap-colab .jupyter-button {\n",
       "                    --jp-layout-color3: var(--colab-primary-surface-color, white);\n",
       "                }\n",
       "            </style>\n",
       "            "
      ],
      "text/plain": [
       "<IPython.core.display.HTML object>"
      ]
     },
     "metadata": {},
     "output_type": "display_data"
    }
   ],
   "source": [
    "# Feature List\n",
    "# Define predictor variables (features) used for training\n",
    "feature_list = [\"SR_B1\", \"SR_B2\", \"SR_B3\", \"SR_B4\", \"SR_B5\", \"SR_B6\", \"SR_B7\", \"ndvi\", \"ndbi\", \"mndwi\", \"slope\"]\n"
   ]
  },
  {
   "cell_type": "code",
   "execution_count": 31,
   "metadata": {},
   "outputs": [
    {
     "data": {
      "text/html": [
       "\n",
       "            <style>\n",
       "                .geemap-dark {\n",
       "                    --jp-widgets-color: white;\n",
       "                    --jp-widgets-label-color: white;\n",
       "                    --jp-ui-font-color1: white;\n",
       "                    --jp-layout-color2: #454545;\n",
       "                    background-color: #383838;\n",
       "                }\n",
       "\n",
       "                .geemap-dark .jupyter-button {\n",
       "                    --jp-layout-color3: #383838;\n",
       "                }\n",
       "\n",
       "                .geemap-colab {\n",
       "                    background-color: var(--colab-primary-surface-color, white);\n",
       "                }\n",
       "\n",
       "                .geemap-colab .jupyter-button {\n",
       "                    --jp-layout-color3: var(--colab-primary-surface-color, white);\n",
       "                }\n",
       "            </style>\n",
       "            "
      ],
      "text/plain": [
       "<IPython.core.display.HTML object>"
      ]
     },
     "metadata": {},
     "output_type": "display_data"
    },
    {
     "name": "stdout",
     "output_type": "stream",
     "text": [
      "{'type': 'Feature', 'geometry': {'type': 'Point', 'coordinates': [-75.17123688993095, 39.93049329131763]}, 'id': '1_1_1_100', 'properties': {'class': 'urban', 'landcover': 0, 'split': 0.6425343829846653}}\n"
     ]
    }
   ],
   "source": [
    "print(train_data.first().getInfo())"
   ]
  },
  {
   "cell_type": "code",
   "execution_count": 28,
   "metadata": {},
   "outputs": [
    {
     "data": {
      "text/html": [
       "\n",
       "            <style>\n",
       "                .geemap-dark {\n",
       "                    --jp-widgets-color: white;\n",
       "                    --jp-widgets-label-color: white;\n",
       "                    --jp-ui-font-color1: white;\n",
       "                    --jp-layout-color2: #454545;\n",
       "                    background-color: #383838;\n",
       "                }\n",
       "\n",
       "                .geemap-dark .jupyter-button {\n",
       "                    --jp-layout-color3: #383838;\n",
       "                }\n",
       "\n",
       "                .geemap-colab {\n",
       "                    background-color: var(--colab-primary-surface-color, white);\n",
       "                }\n",
       "\n",
       "                .geemap-colab .jupyter-button {\n",
       "                    --jp-layout-color3: var(--colab-primary-surface-color, white);\n",
       "                }\n",
       "            </style>\n",
       "            "
      ],
      "text/plain": [
       "<IPython.core.display.HTML object>"
      ]
     },
     "metadata": {},
     "output_type": "display_data"
    },
    {
     "ename": "NameError",
     "evalue": "name 'feature_list' is not defined",
     "output_type": "error",
     "traceback": [
      "\u001b[0;31m---------------------------------------------------------------------------\u001b[0m",
      "\u001b[0;31mNameError\u001b[0m                                 Traceback (most recent call last)",
      "Cell \u001b[0;32mIn[28], line 5\u001b[0m\n\u001b[1;32m      1\u001b[0m \u001b[38;5;66;03m# Train Random Forest Model\u001b[39;00m\n\u001b[1;32m      2\u001b[0m rf_model \u001b[38;5;241m=\u001b[39m ee\u001b[38;5;241m.\u001b[39mClassifier\u001b[38;5;241m.\u001b[39msmileRandomForest(\u001b[38;5;241m100\u001b[39m)\u001b[38;5;241m.\u001b[39mtrain(\n\u001b[1;32m      3\u001b[0m     features\u001b[38;5;241m=\u001b[39mtrain_data,  \n\u001b[1;32m      4\u001b[0m     classProperty\u001b[38;5;241m=\u001b[39m\u001b[38;5;124m\"\u001b[39m\u001b[38;5;124mlandcover\u001b[39m\u001b[38;5;124m\"\u001b[39m,  \n\u001b[0;32m----> 5\u001b[0m     inputProperties\u001b[38;5;241m=\u001b[39mfeature_list  \n\u001b[1;32m      6\u001b[0m )\n",
      "\u001b[0;31mNameError\u001b[0m: name 'feature_list' is not defined"
     ]
    }
   ],
   "source": [
    "# Train Random Forest Model\n",
    "rf_model = ee.Classifier.smileRandomForest(100).train(\n",
    "    features=train_data,  \n",
    "    classProperty=\"landcover\",  \n",
    "    inputProperties=feature_list  \n",
    ")"
   ]
  },
  {
   "cell_type": "code",
   "execution_count": 20,
   "metadata": {},
   "outputs": [
    {
     "data": {
      "text/html": [
       "\n",
       "            <style>\n",
       "                .geemap-dark {\n",
       "                    --jp-widgets-color: white;\n",
       "                    --jp-widgets-label-color: white;\n",
       "                    --jp-ui-font-color1: white;\n",
       "                    --jp-layout-color2: #454545;\n",
       "                    background-color: #383838;\n",
       "                }\n",
       "\n",
       "                .geemap-dark .jupyter-button {\n",
       "                    --jp-layout-color3: #383838;\n",
       "                }\n",
       "\n",
       "                .geemap-colab {\n",
       "                    background-color: var(--colab-primary-surface-color, white);\n",
       "                }\n",
       "\n",
       "                .geemap-colab .jupyter-button {\n",
       "                    --jp-layout-color3: var(--colab-primary-surface-color, white);\n",
       "                }\n",
       "            </style>\n",
       "            "
      ],
      "text/plain": [
       "<IPython.core.display.HTML object>"
      ]
     },
     "metadata": {},
     "output_type": "display_data"
    }
   ],
   "source": [
    "# Extract Importance Scores\n",
    "importance = rf_model.explain().get(\"importance\")\n",
    "print(importance.getInfo())  # Outputs feature importance scores\n"
   ]
  },
  {
   "cell_type": "markdown",
   "metadata": {},
   "source": [
    "### Model Evaluation"
   ]
  },
  {
   "cell_type": "code",
   "execution_count": null,
   "metadata": {},
   "outputs": [],
   "source": [
    "# Accuracy Assessment \n",
    "# Apply trained model to Landsat 8 image\n",
    "classified = final_image.classify(rf_model)"
   ]
  },
  {
   "cell_type": "code",
   "execution_count": null,
   "metadata": {},
   "outputs": [],
   "source": [
    "Map.addLayer(classified, {\"min\": 0, \"max\": 3, \"palette\": [\"gray\", \"brown\", \"blue\", \"green\"]}, \"Land Cover Classification\")\n",
    "Map"
   ]
  },
  {
   "cell_type": "code",
   "execution_count": null,
   "metadata": {},
   "outputs": [],
   "source": [
    "# Model Performance\n",
    "confusion_matrix = rf_model.confusionMatrix()\n",
    "print(confusion_matrix.getInfo()) "
   ]
  },
  {
   "cell_type": "code",
   "execution_count": null,
   "metadata": {},
   "outputs": [],
   "source": [
    "overall_acc = confusion_matrix.accuracy()\n",
    "precision = confusion_matrix.producersAccuracy()  # Class-wise\n",
    "recall = confusion_matrix.consumersAccuracy()  # Class-wise\n",
    "print(\"Overall Accuracy:\", overall_acc.getInfo())\n",
    "print(\"Precision:\", precision.getInfo())\n",
    "print(\"Recall:\", recall.getInfo())"
   ]
  },
  {
   "cell_type": "code",
   "execution_count": null,
   "metadata": {},
   "outputs": [],
   "source": [
    "# ESA Comparison \n",
    "# Do Visual Comparison\n",
    "esa_landcover = ee.ImageCollection(\"ESA/WorldCover/v200\").first().clip(philly)\n",
    "Map.addLayer(esa_landcover, {\"min\": 10, \"max\": 100, \"palette\": [\"red\", \"blue\", \"green\", \"yellow\"]}, \"ESA WorldCover\")"
   ]
  },
  {
   "cell_type": "markdown",
   "metadata": {},
   "source": [
    "## Results"
   ]
  },
  {
   "cell_type": "code",
   "execution_count": 21,
   "metadata": {},
   "outputs": [
    {
     "data": {
      "text/html": [
       "\n",
       "            <style>\n",
       "                .geemap-dark {\n",
       "                    --jp-widgets-color: white;\n",
       "                    --jp-widgets-label-color: white;\n",
       "                    --jp-ui-font-color1: white;\n",
       "                    --jp-layout-color2: #454545;\n",
       "                    background-color: #383838;\n",
       "                }\n",
       "\n",
       "                .geemap-dark .jupyter-button {\n",
       "                    --jp-layout-color3: #383838;\n",
       "                }\n",
       "\n",
       "                .geemap-colab {\n",
       "                    background-color: var(--colab-primary-surface-color, white);\n",
       "                }\n",
       "\n",
       "                .geemap-colab .jupyter-button {\n",
       "                    --jp-layout-color3: var(--colab-primary-surface-color, white);\n",
       "                }\n",
       "            </style>\n",
       "            "
      ],
      "text/plain": [
       "<IPython.core.display.HTML object>"
      ]
     },
     "metadata": {},
     "output_type": "display_data"
    }
   ],
   "source": [
    "# Export Landcover as GeoTIFF\n",
    "export_task = ee.batch.Export.image.toDrive(\n",
    "    image=classified,\n",
    "    description=\"LandCover_Classification\",\n",
    "    scale=30,\n",
    "    region=philly.geometry(),\n",
    "    fileFormat=\"GeoTIFF\"\n",
    ")\n",
    "export_task.start()\n",
    "\n",
    "# Export confusion metrix and accuracy as CSV\n",
    "confusion_matrix_array = ee.Array(confusion_matrix)\n",
    "export_task2 = ee.batch.Export.table.toDrive(\n",
    "    collection=ee.FeatureCollection([\n",
    "        ee.Feature(None, {\"confusion_matrix\": confusion_matrix_array})\n",
    "    ]),\n",
    "    description=\"ConfusionMatrix\",\n",
    "    fileFormat=\"CSV\"\n",
    ")\n",
    "export_task2.start()\n",
    "\n"
   ]
  },
  {
   "cell_type": "markdown",
   "metadata": {},
   "source": [
    "# OLD/DISCARD \n",
    "## Check Image Properties"
   ]
  },
  {
   "cell_type": "code",
   "execution_count": null,
   "metadata": {},
   "outputs": [],
   "source": [
    "# Old Version\n",
    "# Pulling Phildelphia boundary (Region of Interest)\n",
    "philly = ee.FeatureCollection(\"TIGER/2018/Counties\").filter(ee.Filter.eq(\"NAME\", \"Philadelphia\"))\n",
    "\n",
    "# Load Landsat 8 Collection \n",
    "landsat = (ee.ImageCollection(\"LANDSAT/LC08/C02/T1\")\n",
    "           .filterBounds(philly)\n",
    "           .filterDate(\"2023-01-01\", \"2023-12-31\")\n",
    "           .filterMetadata(\"CLOUD_COVER\", \"less_than\", 10)\n",
    "           .median()\n",
    "           .clip(philly)\n",
    "           .select(\"B[1-7]\"))\n",
    "\n",
    "\n",
    "# Visualize ROI and Landsat image\n",
    "Map = geemap.Map()\n",
    "Map.centerObject(philly, 10)\n",
    "\n",
    "stats = landsat.reduceRegion(\n",
    "    reducer=ee.Reducer.minMax(),\n",
    "    geometry=philly,\n",
    "    scale=30\n",
    ")\n",
    "min_value = stats.get(\"B4_min\")\n",
    "max_value = stats.get(\"B4_max\")\n",
    "max_false = stats.get(\"B7_max\")\n",
    "max_veg = stats.get(\"B5_max\")\n",
    "Map.addLayer(landsat, {\"bands\": [\"B4\", \"B3\", \"B2\"], \"min\": 5, \"max\": max_value}, \"True Color\")\n",
    "Map.addLayer(landsat, {\"bands\": [\"B7\", \"B4\", \"B6\"], \"min\": 5, \"max\": max_false}, \"False Color (Urban)\")\n",
    "Map.addLayer(landsat, {\"bands\": [\"B5\", \"B4\", \"B3\"], \"min\": 5, \"max\": max_veg}, \"False Color (Veg)\")\n",
    "Map"
   ]
  },
  {
   "cell_type": "code",
   "execution_count": 18,
   "metadata": {},
   "outputs": [
    {
     "data": {
      "text/html": [
       "\n",
       "            <style>\n",
       "                .geemap-dark {\n",
       "                    --jp-widgets-color: white;\n",
       "                    --jp-widgets-label-color: white;\n",
       "                    --jp-ui-font-color1: white;\n",
       "                    --jp-layout-color2: #454545;\n",
       "                    background-color: #383838;\n",
       "                }\n",
       "\n",
       "                .geemap-dark .jupyter-button {\n",
       "                    --jp-layout-color3: #383838;\n",
       "                }\n",
       "\n",
       "                .geemap-colab {\n",
       "                    background-color: var(--colab-primary-surface-color, white);\n",
       "                }\n",
       "\n",
       "                .geemap-colab .jupyter-button {\n",
       "                    --jp-layout-color3: var(--colab-primary-surface-color, white);\n",
       "                }\n",
       "            </style>\n",
       "            "
      ],
      "text/plain": [
       "<IPython.core.display.HTML object>"
      ]
     },
     "metadata": {},
     "output_type": "display_data"
    },
    {
     "name": "stdout",
     "output_type": "stream",
     "text": [
      "The Image Date is: 2023-04-10\n",
      "The cloud cover is: 0.08\n"
     ]
    }
   ],
   "source": [
    "print(\"The Image Date is:\", ee.Date(image.get(\"system:time_start\")).format(\"YYYY-MM-dd\").getInfo())\n",
    "print(\"The cloud cover is:\", image.get(\"CLOUD_COVER\").getInfo())"
   ]
  }
 ],
 "metadata": {
  "kernelspec": {
   "display_name": "musa-650",
   "language": "python",
   "name": "python3"
  },
  "language_info": {
   "codemirror_mode": {
    "name": "ipython",
    "version": 3
   },
   "file_extension": ".py",
   "mimetype": "text/x-python",
   "name": "python",
   "nbconvert_exporter": "python",
   "pygments_lexer": "ipython3",
   "version": "3.11.11"
  }
 },
 "nbformat": 4,
 "nbformat_minor": 2
}
